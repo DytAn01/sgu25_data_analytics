{
  "nbformat": 4,
  "nbformat_minor": 0,
  "metadata": {
    "colab": {
      "provenance": [],
      "toc_visible": true,
      "authorship_tag": "ABX9TyO1DRu0TwjYnifAawOXdcq8",
      "include_colab_link": true
    },
    "kernelspec": {
      "name": "python3",
      "display_name": "Python 3"
    },
    "language_info": {
      "name": "python"
    }
  },
  "cells": [
    {
      "cell_type": "markdown",
      "metadata": {
        "id": "view-in-github",
        "colab_type": "text"
      },
      "source": [
        "<a href=\"https://colab.research.google.com/github/DytAn01/sgu25_data_analytics/blob/main/Python.ipynb\" target=\"_parent\"><img src=\"https://colab.research.google.com/assets/colab-badge.svg\" alt=\"Open In Colab\"/></a>"
      ]
    },
    {
      "cell_type": "markdown",
      "source": [
        "# Python"
      ],
      "metadata": {
        "id": "XdPHCPSQWC4Z"
      }
    },
    {
      "cell_type": "markdown",
      "source": [
        "## Biến - Kiểu dữ liệu - Khối lệnh\n",
        "\n"
      ],
      "metadata": {
        "id": "yjtqiq8yWP-J"
      }
    },
    {
      "cell_type": "code",
      "source": [
        "# Biến\n",
        "n = 12 # biến n là kiểu nguyên\n",
        "n = n + 0.1 # biến n chuyển sang kiểu thực"
      ],
      "metadata": {
        "id": "W8cshlrCXKgn"
      },
      "execution_count": null,
      "outputs": []
    },
    {
      "cell_type": "code",
      "source": [
        "# Dữ liệu kiểu chuỗi\n",
        "name = 'matt'\n",
        "# chuỗi trong nó có chứa dấu nháy đơn\n",
        "with_quote = \"I ain't gonna\"\n",
        "# chuỗi có nôi dung nằm trên 2 dòng\n",
        "longer = \"\"\"This string has multiple lines in it\"\"\""
      ],
      "metadata": {
        "id": "jNbksTsiXfu5"
      },
      "execution_count": null,
      "outputs": []
    },
    {
      "cell_type": "markdown",
      "source": [
        "## Nhập và xuất dữ liệu"
      ],
      "metadata": {
        "id": "cU9mKI8XXvmx"
      }
    },
    {
      "cell_type": "code",
      "source": [
        "# Xuất dữ liệu\n",
        "print(42)\n",
        "\n",
        "a= 3.564\n",
        "print(\"a = \", a)\n",
        "\n",
        "print(\"a = \\n\", a)\n",
        "\n",
        "print(\"a\",\"b\")\n",
        "\n",
        "print(\"a\",\"b\",sep=\"\")\n",
        "\n",
        "print(192,168,178,42,sep=\".\")\n",
        "\n",
        "print(\"a\",\"b\",sep=\":-)\")"
      ],
      "metadata": {
        "colab": {
          "base_uri": "https://localhost:8080/"
        },
        "id": "lxAYxgdQXzjR",
        "outputId": "ef0ab4b4-3110-4c5e-9a84-59affe5a75c6"
      },
      "execution_count": null,
      "outputs": [
        {
          "output_type": "stream",
          "name": "stdout",
          "text": [
            "42\n",
            "a =  3.564\n",
            "a = \n",
            " 3.564\n",
            "a b\n",
            "ab\n",
            "192.168.178.42\n",
            "a:-)b\n"
          ]
        }
      ]
    },
    {
      "cell_type": "code",
      "source": [
        "# Nhập dữ liệu\n",
        "name = input(\"What's your name? \") # Sử dụng hàm input để nhập dữ liệu từ bàn phím\n",
        "print(\"Nice to meet you \" + name + \"!\")\n",
        "age = input(\"Your age? \")\n",
        "print(\"You are already \" + age + \" years old, \" + name + \"!\")\n",
        "\n"
      ],
      "metadata": {
        "colab": {
          "base_uri": "https://localhost:8080/"
        },
        "id": "s4f5MaiAYorB",
        "outputId": "f2d842d8-bbdf-4214-9ffb-cbf23432268f"
      },
      "execution_count": null,
      "outputs": [
        {
          "output_type": "stream",
          "name": "stdout",
          "text": [
            "What's your name? Tan\n",
            "Nice to meet you Tan!\n",
            "Your age? 21\n",
            "You are already 21 years old, Tan!\n"
          ]
        }
      ]
    },
    {
      "cell_type": "code",
      "source": [
        "age = int(input(\"Your age? \")) # Có thể kết hợp chuyển kiểu nếu muốn tường minh\n",
        "print(\"You are already %d years old!\", age)"
      ],
      "metadata": {
        "colab": {
          "base_uri": "https://localhost:8080/"
        },
        "id": "CQ56UZqHZA3h",
        "outputId": "feb23d65-91e1-4e7f-f1bc-0e1dd14f44aa"
      },
      "execution_count": null,
      "outputs": [
        {
          "output_type": "stream",
          "name": "stdout",
          "text": [
            "Your age? 21\n",
            "You are already %d years old! 21\n"
          ]
        }
      ]
    },
    {
      "cell_type": "markdown",
      "source": [
        "## Ví dụ minh họa\n"
      ],
      "metadata": {
        "id": "UrQVAOfwZV1A"
      }
    },
    {
      "cell_type": "code",
      "source": [
        "# Giải phương trình bậc 2\n",
        "a = float(input(\"A = \"))\n",
        "b = float(input(\"B = \"))    # Nhập a,b,c kiểu số thực và tính delta\n",
        "c = float(input(\"C = \"))\n",
        "delta = b*b-4*a*c\n",
        "\n",
        "if delta==0:                # Biện luận các trường hợp của delta\n",
        "  print(\"Nghiem kep: x = \", str(-b/2/a))\n",
        "\n",
        "if delta<0:\n",
        "  print(\"Phuong trinh vo nghiem\")\n",
        "\n",
        "if delta>0:\n",
        "  print(\"X1 = \" + str((-b+delta**0.5)/2/a))\n",
        "  print(\"X2 = \" + str((-b-delta**0.5)/2/a))"
      ],
      "metadata": {
        "colab": {
          "base_uri": "https://localhost:8080/"
        },
        "id": "H0v_E8iOZYkx",
        "outputId": "e1827761-80cc-4dca-d01c-fae3c3d2ccd4"
      },
      "execution_count": null,
      "outputs": [
        {
          "output_type": "stream",
          "name": "stdout",
          "text": [
            "A = 2\n",
            "B = 3\n",
            "C = 5\n",
            "Phuong trinh vo nghiem\n"
          ]
        }
      ]
    },
    {
      "cell_type": "markdown",
      "source": [
        "## Kiểu dữ liệu và phép toán liên quan"
      ],
      "metadata": {
        "id": "5hcNcaSNZzs5"
      }
    },
    {
      "cell_type": "code",
      "source": [
        "# Python viết số nguyên theo nhiều hệ cơ số\n",
        "A = 1234 # hệ cơ số 10\n",
        "B = 0xAF1 # hệ cơ số 16\n",
        "C = 0o772 # hệ cơ số 8\n",
        "D = 0b1001 # hệ cơ số 2\n",
        "\n",
        "# Chuyển đổi từ số nguyên thành string ở các hệ cơ số khác nhau\n",
        "K = str(1234) # chuyển thành str ở hệ cơ số 10\n",
        "L = hex(1234) # chuyển thành str ở hệ cơ số 16\n",
        "M = oct(1234) # chuyển thành str ở hệ cơ số 8\n",
        "N = bin(1234) # chuyển thành str ở hệ cơ số 2"
      ],
      "metadata": {
        "id": "1GcDf1deZ7cA"
      },
      "execution_count": null,
      "outputs": []
    },
    {
      "cell_type": "markdown",
      "source": [
        "## Cấu trúc rẽ nhánh"
      ],
      "metadata": {
        "id": "BJ7e-oWoaO6Q"
      }
    },
    {
      "cell_type": "code",
      "source": [
        "# Cấu trúc rẽ nhánh if-else\n",
        "name = input(\"What's your name? \")\n",
        "print(\"Nice to meet you \" + name + \"!\")\n",
        "age = int(input(\"Your age? \"))\n",
        "print(\"You are already\", age, \"years old,\",\n",
        "name, \"!\")\n",
        "if age>=18:\n",
        "  print(\"Đủ tuổi đi bầu cử\")\n",
        "  if age>100:\n",
        "    print(\"Có vẻ sai sai!\")\n",
        "else:\n",
        "  print(\"Nhỏ quá\")"
      ],
      "metadata": {
        "colab": {
          "base_uri": "https://localhost:8080/"
        },
        "id": "fN0E81u4aSNh",
        "outputId": "b21672c8-901c-4d51-8ebc-d37a9833d4d9"
      },
      "execution_count": null,
      "outputs": [
        {
          "output_type": "stream",
          "name": "stdout",
          "text": [
            "What's your name? Tân\n",
            "Nice to meet you Tân!\n",
            "Your age? 21\n",
            "You are already 21 years old, Tân !\n",
            "Đủ tuổi đi bầu cử\n"
          ]
        }
      ]
    },
    {
      "cell_type": "markdown",
      "source": [
        "## Vòng lặp"
      ],
      "metadata": {
        "id": "NYOwePN2as3o"
      }
    },
    {
      "cell_type": "code",
      "source": [
        "# Vòng lặp for\n",
        "for d in range(10,20): # in các số từ 10 đến 19\n",
        " print(d)\n",
        "for d in range(20,10,-1): # in các số từ 20 đến 11\n",
        " print(d)"
      ],
      "metadata": {
        "colab": {
          "base_uri": "https://localhost:8080/"
        },
        "id": "KeyxVLBdcsaI",
        "outputId": "7247398d-a1be-4610-a2cb-bbb1482f1f14"
      },
      "execution_count": null,
      "outputs": [
        {
          "output_type": "stream",
          "name": "stdout",
          "text": [
            "10\n",
            "11\n",
            "12\n",
            "13\n",
            "14\n",
            "15\n",
            "16\n",
            "17\n",
            "18\n",
            "19\n",
            "20\n",
            "19\n",
            "18\n",
            "17\n",
            "16\n",
            "15\n",
            "14\n",
            "13\n",
            "12\n",
            "11\n"
          ]
        }
      ]
    },
    {
      "cell_type": "markdown",
      "source": [
        "## Hàm"
      ],
      "metadata": {
        "id": "LnYp50lEc6Tx"
      }
    },
    {
      "cell_type": "code",
      "source": [
        "# Hàm tính tích 2 số\n",
        "def tich(a, b):\n",
        " return a*b\n"
      ],
      "metadata": {
        "id": "yBSEpHKvdmpp"
      },
      "execution_count": null,
      "outputs": []
    },
    {
      "cell_type": "code",
      "source": [
        "print(tich(10, 20)) # 200\n",
        "print(tich(b=6, a=5)) # 30"
      ],
      "metadata": {
        "colab": {
          "base_uri": "https://localhost:8080/"
        },
        "id": "EciLaPv6d4ro",
        "outputId": "06b0bb96-9598-4df4-fa4a-e299281054b6"
      },
      "execution_count": null,
      "outputs": [
        {
          "output_type": "stream",
          "name": "stdout",
          "text": [
            "200\n",
            "30\n"
          ]
        }
      ]
    },
    {
      "cell_type": "markdown",
      "source": [
        "## String (Chuỗi)"
      ],
      "metadata": {
        "id": "OoluPEuLfOGH"
      }
    },
    {
      "cell_type": "code",
      "source": [
        "# Kiểu chuỗi\n",
        "\n",
        "# Phép nối chuỗi (+)\n",
        "s = \"Good\" + \" \" + \"Morning!\"\n",
        "print(s)\n",
        "\n",
        "# Phép nhân bản\n",
        "s = \"AB\" * 3 # số nguyên\n",
        "print(s)\n",
        "\n",
        "# Kiểm tra nội dung\n",
        "s in '1ABABABCD' # True\n"
      ],
      "metadata": {
        "colab": {
          "base_uri": "https://localhost:8080/"
        },
        "id": "6VVJUl74fTLn",
        "outputId": "91431368-3da8-4141-a3c1-956ccd90a6d3"
      },
      "execution_count": null,
      "outputs": [
        {
          "output_type": "stream",
          "name": "stdout",
          "text": [
            "Good Morning!\n",
            "ABABAB\n"
          ]
        },
        {
          "output_type": "execute_result",
          "data": {
            "text/plain": [
              "True"
            ]
          },
          "metadata": {},
          "execution_count": 24
        }
      ]
    },
    {
      "cell_type": "code",
      "source": [
        "# Cắt chuỗi\n",
        "s = '0123456789'\n",
        "\n",
        "print(s[3:6])\n",
        "# 345\n",
        "\n",
        "print(s[3:])\n",
        "# 3456789\n",
        "\n",
        "print(s[:6])\n",
        "# 012345\n",
        "\n",
        "print(s[-7:-4])\n",
        "# 345\n",
        "\n",
        "print(s[-4:-7])\n",
        "# (chuỗi rỗng)\n",
        "\n",
        "print(s[-4:-7:-1])\n",
        "# 654\n",
        "\n",
        "print(s[:len(s)])\n",
        "# 0123456789\n",
        "\n",
        "print(s[:len(s)-1])\n",
        "# 012345678\n",
        "\n",
        "print(s[:])\n",
        "# 0123456789\n",
        "\n",
        "print(s[len(s)::-1])\n",
        "# 9876543210\n",
        "\n",
        "print(s[len(s)-1::-1])\n",
        "# 9876543210\n",
        "\n",
        "print(s[len(s)-2::-1])\n",
        "# 876543210\n",
        "\n"
      ],
      "metadata": {
        "colab": {
          "base_uri": "https://localhost:8080/"
        },
        "id": "qJuVwIZagjb7",
        "outputId": "c1ba42e2-124a-448c-af20-4ca15bbe855a"
      },
      "execution_count": null,
      "outputs": [
        {
          "output_type": "stream",
          "name": "stdout",
          "text": [
            "345\n",
            "3456789\n",
            "012345\n",
            "345\n",
            "\n",
            "654\n",
            "0123456789\n",
            "012345678\n",
            "0123456789\n",
            "9876543210\n",
            "9876543210\n",
            "876543210\n"
          ]
        }
      ]
    },
    {
      "cell_type": "code",
      "source": [
        "# Định dạng chuỗi\n",
        "\"Chao %s, gio la %d gio\" % ('txnam', 10)\n",
        "\"Can bac 2 cua 2 = %f\" % (2**0.5)\n",
        "\"Can bac 2 cua 2 = %10.3f\" % (2**0.5)\n",
        "\"Can bac 2 cua 2 = %10f\" % (2**0.5)\n",
        "\"Can bac 2 cua 2 = %.7f\" % (2**0.5)"
      ],
      "metadata": {
        "colab": {
          "base_uri": "https://localhost:8080/",
          "height": 35
        },
        "id": "1DIf93cXg7CJ",
        "outputId": "a1ce2dcc-0a7d-4c89-d862-9bc7861e7226"
      },
      "execution_count": null,
      "outputs": [
        {
          "output_type": "execute_result",
          "data": {
            "text/plain": [
              "'Can bac 2 cua 2 = 1.4142136'"
            ],
            "application/vnd.google.colaboratory.intrinsic+json": {
              "type": "string"
            }
          },
          "metadata": {},
          "execution_count": 26
        }
      ]
    },
    {
      "cell_type": "code",
      "source": [
        "# Định dạng chuỗi\n",
        "# Python cho phép định dạng chuỗi ở dạng f-string\n",
        "myname = 'DHNTT'\n",
        "\n",
        "s = f'This is {myname}.'       # Chèn biến myname vào chuỗi\n",
        "print(s)                       # Output: This is DHNTT.\n",
        "\n",
        "w = f'{s} {myname}'            # Có thể chèn nhiều biến hoặc chuỗi định dạng khác\n",
        "print(w)                       # Output: This is DHNTT. DHNTT\n",
        "\n",
        "z = f'{{s}} {s}'               # Dùng {{ }} để in ra dấu ngoặc nhọn { }\n",
        "print(z)                       # Output: {s} This is DHNTT.\n",
        "\n",
        "# Định dạng bằng format\n",
        "# Điền lần lượt từng giá trị vào giữa cặp ngoặc nhọn\n",
        "'a: {}, b: {}, c: {}'.format(1, 2, 3)\n",
        "# Điền nhưng không lần lượt\n",
        "'a: {1}, b: {2}, c: {0}'.format('one', 'two', 'three')\n",
        "'two same values: {0}, {0}'.format(1, 2)\n",
        "# Điền và chỉ định từng giá trị\n",
        "'1: {one}, 2: {two}'.format(one=111, two=222)\n",
        "\n",
        "# Định dạng bằng format cho phép căn lề phong phú\n",
        "# căn giữa: ' aaaa '\n",
        "'{:^10}'.format('aaaa')\n",
        "# căn lề trái: 'aaaa '\n",
        "'{:<10}'.format('aaaa')\n",
        "# căn lề phải ' aaaa'\n",
        "'{:>10}'.format('aaaa')\n",
        "# căn lề phải, thay khoảng trắng bằng -: '------aaaa'\n",
        "'{:->10}'.format('aaaa')\n",
        "# căn lề trái, thay khoảng trắng *: 'aaa******'\n",
        "'{:*<10}'.format('aaaa')\n",
        "# căn giữa, thay khoảng trắng bằng +: '+++aaaa+++'\n",
        "'{:+^10}'.format('aaaa')"
      ],
      "metadata": {
        "colab": {
          "base_uri": "https://localhost:8080/",
          "height": 87
        },
        "id": "XLH0_yJy6SHu",
        "outputId": "b0796925-c032-464f-e476-14f900ef61f7"
      },
      "execution_count": 1,
      "outputs": [
        {
          "output_type": "stream",
          "name": "stdout",
          "text": [
            "This is DHNTT.\n",
            "This is DHNTT. DHNTT\n",
            "{s} This is DHNTT.\n"
          ]
        },
        {
          "output_type": "execute_result",
          "data": {
            "text/plain": [
              "'+++aaaa+++'"
            ],
            "application/vnd.google.colaboratory.intrinsic+json": {
              "type": "string"
            }
          },
          "metadata": {},
          "execution_count": 1
        }
      ]
    },
    {
      "cell_type": "markdown",
      "source": [
        "## List (Danh sách)"
      ],
      "metadata": {
        "id": "8VzZgD_N7GW6"
      }
    },
    {
      "cell_type": "code",
      "source": [
        "# Khởi tạo list\n",
        "# Tạo list bằng constructor\n",
        "l1 = list([1, 2, 3, 4]) # list 4 số nguyên\n",
        "l2 = list('abc') # list 3 chuỗi con\n",
        "l3 = list() # list rỗng\n",
        "\n",
        "# Tạo list bằng list comprehension\n",
        "# list 1000 số nguyên từ 0 đến 999\n",
        "X = [n for n in range(1000)]\n",
        "# list gồm 10 list con là các cặp [x, x2]\n",
        "# với x chạy từ 0 đến 9\n",
        "Y = [[x, x*x] for x in range(10)]"
      ],
      "metadata": {
        "id": "sslUxYYe7RkF"
      },
      "execution_count": 3,
      "outputs": []
    },
    {
      "cell_type": "markdown",
      "source": [
        "## Tuple (hàng)"
      ],
      "metadata": {
        "id": "PnKzeMq87g7S"
      }
    },
    {
      "cell_type": "code",
      "source": [
        "# Tuple là một dạng readonly list\n",
        "\n",
        "(1, 2, 3, 4, 5) # tuple 5 số nguyên\n",
        "('a', 'b', 'c', 'd') # tuple 4 chuỗi\n",
        "(1, 'one', [2, 'two']) # tuple hỗ hợp\n",
        "(1,) # tuple 1 phần tử\n",
        "() # tuple rỗng"
      ],
      "metadata": {
        "colab": {
          "base_uri": "https://localhost:8080/"
        },
        "id": "VjY-Fc2-7mhc",
        "outputId": "49fed002-f3a4-42e9-bc4d-e32fc4148ba5"
      },
      "execution_count": 2,
      "outputs": [
        {
          "output_type": "execute_result",
          "data": {
            "text/plain": [
              "()"
            ]
          },
          "metadata": {},
          "execution_count": 2
        }
      ]
    },
    {
      "cell_type": "markdown",
      "source": [
        "## Range (miền)\n"
      ],
      "metadata": {
        "id": "my1acZ9q7vkg"
      }
    },
    {
      "cell_type": "code",
      "source": [
        "# range(stop) - Tạo ra các số từ 0 đến (nhưng không bao gồm) stop\n",
        "print(list(range(10)))\n",
        "\n",
        "# range(start, stop) - Tạo ra các số từ start đến (nhưng không bao gồm) stop\n",
        "print(list(range(5, 10)))\n",
        "\n",
        "# range(start, stop, step) - Tạo ra các số từ start đến (nhưng không bao gồm) stop, với bước nhảy là step\n",
        "print(list(range(0, 10, 2)))\n",
        "print(list(range(10, 0, -1)))"
      ],
      "metadata": {
        "colab": {
          "base_uri": "https://localhost:8080/"
        },
        "id": "W5LXyEm771hi",
        "outputId": "48b73e72-a152-4a1f-dedf-dc70baecc90c"
      },
      "execution_count": 6,
      "outputs": [
        {
          "output_type": "stream",
          "name": "stdout",
          "text": [
            "[0, 1, 2, 3, 4, 5, 6, 7, 8, 9]\n",
            "[5, 6, 7, 8, 9]\n",
            "[0, 2, 4, 6, 8]\n",
            "[10, 9, 8, 7, 6, 5, 4, 3, 2, 1]\n"
          ]
        }
      ]
    },
    {
      "cell_type": "markdown",
      "source": [
        "## Set (tập hợp) và Frozenset (tập hợp tĩnh)"
      ],
      "metadata": {
        "id": "T6N8uGqx8VKR"
      }
    },
    {
      "cell_type": "code",
      "source": [
        "# Giới thiệu và khởi tạo\n",
        "basket = {'apple','orange','apple','pear'}\n",
        "print(basket)\n",
        "#{'orange','pear','apple'} : xóa trùng nhau\n",
        "a = {5,2,3,1,4}\n",
        "print(\"a=\", a) #a = {1, 2, 3, 4, 5}\n"
      ],
      "metadata": {
        "colab": {
          "base_uri": "https://localhost:8080/"
        },
        "id": "6N419qX28eHk",
        "outputId": "9b7f9bee-9c80-4e4f-b8ba-41bea3f31983"
      },
      "execution_count": 7,
      "outputs": [
        {
          "output_type": "stream",
          "name": "stdout",
          "text": [
            "{'orange', 'pear', 'apple'}\n",
            "a= {1, 2, 3, 4, 5}\n"
          ]
        }
      ]
    },
    {
      "cell_type": "code",
      "source": [
        "# Tạo set bằng constructor\n",
        "s1 = set([1, 2, 3, 4]) # {1, 2, 3, 4}\n",
        "print(s1)\n",
        "s2 = set((1, 1, 1)) # {1}\n",
        "print(s2)\n",
        "s3 = s1 - s2 # {2, 3, 4}\n",
        "print(s3)\n",
        "s4 = set(range(1,100)) # {1, 2, 3,..., 98, 99}\n",
        "print(s4)"
      ],
      "metadata": {
        "colab": {
          "base_uri": "https://localhost:8080/"
        },
        "id": "Pduz9dQo82PF",
        "outputId": "4382b083-0c60-459b-95af-cfae58b7e30f"
      },
      "execution_count": 11,
      "outputs": [
        {
          "output_type": "stream",
          "name": "stdout",
          "text": [
            "{1, 2, 3, 4}\n",
            "{1}\n",
            "{2, 3, 4}\n",
            "{1, 2, 3, 4, 5, 6, 7, 8, 9, 10, 11, 12, 13, 14, 15, 16, 17, 18, 19, 20, 21, 22, 23, 24, 25, 26, 27, 28, 29, 30, 31, 32, 33, 34, 35, 36, 37, 38, 39, 40, 41, 42, 43, 44, 45, 46, 47, 48, 49, 50, 51, 52, 53, 54, 55, 56, 57, 58, 59, 60, 61, 62, 63, 64, 65, 66, 67, 68, 69, 70, 71, 72, 73, 74, 75, 76, 77, 78, 79, 80, 81, 82, 83, 84, 85, 86, 87, 88, 89, 90, 91, 92, 93, 94, 95, 96, 97, 98, 99}\n"
          ]
        }
      ]
    },
    {
      "cell_type": "code",
      "source": [
        "# Tạo set bằng set comprehension\n",
        "# a = {'r', 'd'}\n",
        "a = {x for x in 'abracadabra' if x not in 'abc'}\n",
        "print(a)"
      ],
      "metadata": {
        "colab": {
          "base_uri": "https://localhost:8080/"
        },
        "id": "wfdDVMQT9GrA",
        "outputId": "1ed6c4ab-d96b-44b1-f8d5-297f51e81674"
      },
      "execution_count": 13,
      "outputs": [
        {
          "output_type": "stream",
          "name": "stdout",
          "text": [
            "{'d', 'r'}\n"
          ]
        }
      ]
    },
    {
      "cell_type": "code",
      "source": [
        "# Set không thể chứa những đối tượng mutable (có thể bị thay đổi), mặc dù chính set lại có thể thay đổi\n",
        "a = set(([1,2],[2,3])) # lỗi list\n",
        "\n",
        "a = set(((1,2),(2,3))) # {(1, 2), (2, 3)}\n",
        "a.add(\"abc\") # {(1, 2), \"abc\", (2, 3)}"
      ],
      "metadata": {
        "id": "vvJgKSw79erN"
      },
      "execution_count": null,
      "outputs": []
    },
    {
      "cell_type": "code",
      "source": [
        "# Frozenset giống set, nhưng không thể bị thay đổi\n",
        "b = frozenset(((1,2),(2,3))) # {(1,2), (2,3)}\n",
        "b.add(\"abc\") # lỗi"
      ],
      "metadata": {
        "id": "KcS0Deo29asV"
      },
      "execution_count": null,
      "outputs": []
    },
    {
      "cell_type": "code",
      "source": [
        "# Set Hỗn hợp\n",
        "my_set = {8.0, \"Sinh viên\", (1, 2, 3)}\n",
        "print(\"ketqua_Set=\",my_set)\n",
        "#Output: ketqua_Set= {'Sinh viên', 8.0, (1, 2, 3)}\n",
        "\n",
        "# Khởi tạo my_set\n",
        "my_set = {1,3}\n",
        "my_set.add(2) #thêm\n",
        "my_set.update([2,3,4]) # Cập nhật\n",
        "my_set.update([4,5], {1,6,8}) # Cập nhật set\n",
        "print(my_set)\n",
        "\n",
        "# Output: {1, 2, 3, 4, 5, 6, 8}"
      ],
      "metadata": {
        "colab": {
          "base_uri": "https://localhost:8080/"
        },
        "id": "Kd3fCHc49mCJ",
        "outputId": "acfebe0a-7a67-4606-da76-788ec1cea5df"
      },
      "execution_count": 16,
      "outputs": [
        {
          "output_type": "stream",
          "name": "stdout",
          "text": [
            "ketqua_Set= {8.0, (1, 2, 3), 'Sinh viên'}\n",
            "{1, 2, 3, 4, 5, 6, 8}\n"
          ]
        }
      ]
    },
    {
      "cell_type": "code",
      "source": [
        "# Các phép toán trên set\n",
        "\n",
        "a = set('abracadabra') # {'d', 'r', 'c', 'b', 'a'}\n",
        "b = set('alacazam') # {'z', 'c', 'm', 'l', 'a'}\n",
        "# Phép Hiệu: thuộc a nhưng không thuộc b\n",
        "\n",
        "print(a - b) # {'r', 'd', 'b'}\n",
        "\n",
        "# Phép Hợp: thuộc a hoặc b\n",
        "# {'a', 'c', 'r', 'd', 'b', 'm', 'z', 'l'}\n",
        "\n",
        "print(a | b)\n",
        "\n",
        "# Phép Giao: thuộc cả a và b\n",
        "\n",
        "print(a & b) # {'a', 'c'}\n",
        "\n",
        "# Phép Xor: thuộc hoặc a, hoặc b nhưng không phải cả 2\n",
        "# {'r', 'd', 'b', 'm', 'z', 'l'}\n",
        "print(a ^ b)"
      ],
      "metadata": {
        "colab": {
          "base_uri": "https://localhost:8080/"
        },
        "id": "tKmXdmuK96_V",
        "outputId": "3dd0ce52-26a5-4807-fe6a-4953dd0c7747"
      },
      "execution_count": 18,
      "outputs": [
        {
          "output_type": "stream",
          "name": "stdout",
          "text": [
            "{'d', 'r', 'b'}\n",
            "{'b', 'z', 'a', 'l', 'd', 'm', 'c', 'r'}\n",
            "{'a', 'c'}\n",
            "{'b', 'd', 'z', 'm', 'l', 'r'}\n"
          ]
        }
      ]
    },
    {
      "cell_type": "code",
      "source": [
        "# Các phương thức của set\n",
        "num = {1,3,5,6,8,20,7,8,29,33}\n",
        "print(\"Số lớn nhất là :\", max(num))\n",
        "#Số lớn nhất là : 33"
      ],
      "metadata": {
        "colab": {
          "base_uri": "https://localhost:8080/"
        },
        "id": "6LlD09L4-OKz",
        "outputId": "908c1d6c-89c8-4047-fd1e-525a32a98045"
      },
      "execution_count": 19,
      "outputs": [
        {
          "output_type": "stream",
          "name": "stdout",
          "text": [
            "Số lớn nhất là : 33\n"
          ]
        }
      ]
    },
    {
      "cell_type": "code",
      "source": [
        "# Vòng lặp for của set()\n",
        "setFruits = {'lemon','orange','apple','pear'}\n",
        "for x in setFruits:\n",
        "  print(x)"
      ],
      "metadata": {
        "colab": {
          "base_uri": "https://localhost:8080/"
        },
        "id": "pADQKlbs-TKV",
        "outputId": "b8cef107-220b-4d8c-bfa8-f404c704d9d9"
      },
      "execution_count": 20,
      "outputs": [
        {
          "output_type": "stream",
          "name": "stdout",
          "text": [
            "orange\n",
            "pear\n",
            "lemon\n",
            "apple\n"
          ]
        }
      ]
    }
  ]
}